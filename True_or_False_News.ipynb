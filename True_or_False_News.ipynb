{
 "cells": [
  {
   "cell_type": "code",
   "execution_count": 72,
   "id": "37966508",
   "metadata": {},
   "outputs": [],
   "source": [
    "import pandas as pd"
   ]
  },
  {
   "cell_type": "code",
   "execution_count": 73,
   "id": "394071f8",
   "metadata": {},
   "outputs": [],
   "source": [
    "#Reading csv files and making copy of them\n",
    "file_fake = pd.read_csv(\"D:\\\\datasets\\\\T_or_F_News\\\\Fake.csv\")\n",
    "file_true = pd.read_csv(\"D:\\\\datasets\\\\T_or_F_News\\\\True.csv\")\n",
    "df_f = file_fake.copy()\n",
    "df_t = file_true.copy()"
   ]
  },
  {
   "cell_type": "code",
   "execution_count": 74,
   "id": "b2535b45",
   "metadata": {},
   "outputs": [
    {
     "data": {
      "text/html": [
       "<div>\n",
       "<style scoped>\n",
       "    .dataframe tbody tr th:only-of-type {\n",
       "        vertical-align: middle;\n",
       "    }\n",
       "\n",
       "    .dataframe tbody tr th {\n",
       "        vertical-align: top;\n",
       "    }\n",
       "\n",
       "    .dataframe thead th {\n",
       "        text-align: right;\n",
       "    }\n",
       "</style>\n",
       "<table border=\"1\" class=\"dataframe\">\n",
       "  <thead>\n",
       "    <tr style=\"text-align: right;\">\n",
       "      <th></th>\n",
       "      <th>title</th>\n",
       "      <th>text</th>\n",
       "      <th>subject</th>\n",
       "      <th>date</th>\n",
       "    </tr>\n",
       "  </thead>\n",
       "  <tbody>\n",
       "    <tr>\n",
       "      <th>2462</th>\n",
       "      <td>John McCain: Trump’s Attacks On The Press Are...</td>\n",
       "      <td>Donald Trump has declared the media to be  the...</td>\n",
       "      <td>News</td>\n",
       "      <td>February 19, 2017</td>\n",
       "    </tr>\n",
       "    <tr>\n",
       "      <th>21872</th>\n",
       "      <td>(VIDEO) WOMAN BEATEN BY TWO TEENS AFTER ‘SHUSH...</td>\n",
       "      <td>Is everyone else thinking what I m thinking? T...</td>\n",
       "      <td>left-news</td>\n",
       "      <td>Apr 12, 2015</td>\n",
       "    </tr>\n",
       "    <tr>\n",
       "      <th>14475</th>\n",
       "      <td>HOOKERS FOR HILLARY: Why They’ve Got Her Back…...</td>\n",
       "      <td>It only seems fitting that an openly immoral g...</td>\n",
       "      <td>politics</td>\n",
       "      <td>Feb 16, 2016</td>\n",
       "    </tr>\n",
       "    <tr>\n",
       "      <th>15072</th>\n",
       "      <td>[VIDEO] Hillary Channels Southern Drawl While ...</td>\n",
       "      <td>Hillary, the first female, black, flat-broke s...</td>\n",
       "      <td>politics</td>\n",
       "      <td>Oct 17, 2015</td>\n",
       "    </tr>\n",
       "    <tr>\n",
       "      <th>20408</th>\n",
       "      <td>BREAKING: GUN STORE OWNER Claims He DID Report...</td>\n",
       "      <td>If you see something say something and maybe, ...</td>\n",
       "      <td>left-news</td>\n",
       "      <td>Jun 17, 2016</td>\n",
       "    </tr>\n",
       "    <tr>\n",
       "      <th>12622</th>\n",
       "      <td>HILLARY CLINTON MEETS BLACK LIVES MATTER: Says...</td>\n",
       "      <td>Clinton pandered to Black Lives Matter while i...</td>\n",
       "      <td>politics</td>\n",
       "      <td>Oct 25, 2016</td>\n",
       "    </tr>\n",
       "    <tr>\n",
       "      <th>18548</th>\n",
       "      <td>NEW NORMAL? MASSIVE MUSIC FESTIVAL In Angela M...</td>\n",
       "      <td>In 2016, 2.14 million people moved to Germany ...</td>\n",
       "      <td>left-news</td>\n",
       "      <td>Jun 2, 2017</td>\n",
       "    </tr>\n",
       "    <tr>\n",
       "      <th>14051</th>\n",
       "      <td>MICHELLE OBAMA Rants About Mississippi’s ‘Reli...</td>\n",
       "      <td>Our racist First lady made an impact on the gr...</td>\n",
       "      <td>politics</td>\n",
       "      <td>Apr 24, 2016</td>\n",
       "    </tr>\n",
       "    <tr>\n",
       "      <th>11561</th>\n",
       "      <td>WHAT OSCARS? “CONGRATULATIONS MELANIA!”…PRESID...</td>\n",
       "      <td>As Hollywood had its big night at The Oscars, ...</td>\n",
       "      <td>politics</td>\n",
       "      <td>Feb 26, 2017</td>\n",
       "    </tr>\n",
       "    <tr>\n",
       "      <th>22203</th>\n",
       "      <td>STOCKHOLM STUDY: US &amp; Europe Top Arms Trade Gl...</td>\n",
       "      <td>21st Century Wire says According to the Stockh...</td>\n",
       "      <td>US_News</td>\n",
       "      <td>February 21, 2017</td>\n",
       "    </tr>\n",
       "  </tbody>\n",
       "</table>\n",
       "</div>"
      ],
      "text/plain": [
       "                                                   title  \\\n",
       "2462    John McCain: Trump’s Attacks On The Press Are...   \n",
       "21872  (VIDEO) WOMAN BEATEN BY TWO TEENS AFTER ‘SHUSH...   \n",
       "14475  HOOKERS FOR HILLARY: Why They’ve Got Her Back…...   \n",
       "15072  [VIDEO] Hillary Channels Southern Drawl While ...   \n",
       "20408  BREAKING: GUN STORE OWNER Claims He DID Report...   \n",
       "12622  HILLARY CLINTON MEETS BLACK LIVES MATTER: Says...   \n",
       "18548  NEW NORMAL? MASSIVE MUSIC FESTIVAL In Angela M...   \n",
       "14051  MICHELLE OBAMA Rants About Mississippi’s ‘Reli...   \n",
       "11561  WHAT OSCARS? “CONGRATULATIONS MELANIA!”…PRESID...   \n",
       "22203  STOCKHOLM STUDY: US & Europe Top Arms Trade Gl...   \n",
       "\n",
       "                                                    text    subject  \\\n",
       "2462   Donald Trump has declared the media to be  the...       News   \n",
       "21872  Is everyone else thinking what I m thinking? T...  left-news   \n",
       "14475  It only seems fitting that an openly immoral g...   politics   \n",
       "15072  Hillary, the first female, black, flat-broke s...   politics   \n",
       "20408  If you see something say something and maybe, ...  left-news   \n",
       "12622  Clinton pandered to Black Lives Matter while i...   politics   \n",
       "18548  In 2016, 2.14 million people moved to Germany ...  left-news   \n",
       "14051  Our racist First lady made an impact on the gr...   politics   \n",
       "11561  As Hollywood had its big night at The Oscars, ...   politics   \n",
       "22203  21st Century Wire says According to the Stockh...    US_News   \n",
       "\n",
       "                    date  \n",
       "2462   February 19, 2017  \n",
       "21872       Apr 12, 2015  \n",
       "14475       Feb 16, 2016  \n",
       "15072       Oct 17, 2015  \n",
       "20408       Jun 17, 2016  \n",
       "12622       Oct 25, 2016  \n",
       "18548        Jun 2, 2017  \n",
       "14051       Apr 24, 2016  \n",
       "11561       Feb 26, 2017  \n",
       "22203  February 21, 2017  "
      ]
     },
     "execution_count": 74,
     "metadata": {},
     "output_type": "execute_result"
    }
   ],
   "source": [
    "#Getting some random rows from fake news csv\n",
    "df_f.sample(10)"
   ]
  },
  {
   "cell_type": "code",
   "execution_count": 75,
   "id": "bfaf6a5b",
   "metadata": {},
   "outputs": [
    {
     "data": {
      "text/html": [
       "<div>\n",
       "<style scoped>\n",
       "    .dataframe tbody tr th:only-of-type {\n",
       "        vertical-align: middle;\n",
       "    }\n",
       "\n",
       "    .dataframe tbody tr th {\n",
       "        vertical-align: top;\n",
       "    }\n",
       "\n",
       "    .dataframe thead th {\n",
       "        text-align: right;\n",
       "    }\n",
       "</style>\n",
       "<table border=\"1\" class=\"dataframe\">\n",
       "  <thead>\n",
       "    <tr style=\"text-align: right;\">\n",
       "      <th></th>\n",
       "      <th>title</th>\n",
       "      <th>text</th>\n",
       "      <th>subject</th>\n",
       "      <th>date</th>\n",
       "    </tr>\n",
       "  </thead>\n",
       "  <tbody>\n",
       "    <tr>\n",
       "      <th>364</th>\n",
       "      <td>Kremlin says Putin not influenced by ex-Trump ...</td>\n",
       "      <td>MOSCOW (Reuters) - The Kremlin said on Monday ...</td>\n",
       "      <td>politicsNews</td>\n",
       "      <td>December 4, 2017</td>\n",
       "    </tr>\n",
       "    <tr>\n",
       "      <th>8034</th>\n",
       "      <td>Netanyahu to meet Clinton and Trump during U.S...</td>\n",
       "      <td>JERUSALEM (Reuters) - Israeli Prime Minister B...</td>\n",
       "      <td>politicsNews</td>\n",
       "      <td>September 24, 2016</td>\n",
       "    </tr>\n",
       "    <tr>\n",
       "      <th>19305</th>\n",
       "      <td>Russia tells North Korea, U.S. 'hot heads' to ...</td>\n",
       "      <td>UNITED NATIONS (Reuters) - Russia s foreign mi...</td>\n",
       "      <td>worldnews</td>\n",
       "      <td>September 22, 2017</td>\n",
       "    </tr>\n",
       "    <tr>\n",
       "      <th>6479</th>\n",
       "      <td>U.S. ambassadors appointed by Obama must quit ...</td>\n",
       "      <td>(Reuters) - U.S. President-elect Donald Trump’...</td>\n",
       "      <td>politicsNews</td>\n",
       "      <td>January 6, 2017</td>\n",
       "    </tr>\n",
       "    <tr>\n",
       "      <th>180</th>\n",
       "      <td>House and Senate reach deal on U.S. tax legisl...</td>\n",
       "      <td>WASHINGTON (Reuters) - U.S. Senate Finance Com...</td>\n",
       "      <td>politicsNews</td>\n",
       "      <td>December 13, 2017</td>\n",
       "    </tr>\n",
       "    <tr>\n",
       "      <th>16091</th>\n",
       "      <td>Convoy rolls into Damascus suburbs with aid fo...</td>\n",
       "      <td>GENEVA (Reuters) - A convoy from the United Na...</td>\n",
       "      <td>worldnews</td>\n",
       "      <td>October 30, 2017</td>\n",
       "    </tr>\n",
       "    <tr>\n",
       "      <th>7523</th>\n",
       "      <td>Clinton's pantsuits inspire flashmob video</td>\n",
       "      <td>(Reuters) - Hillary Clinton’s signature colorf...</td>\n",
       "      <td>politicsNews</td>\n",
       "      <td>November 7, 2016</td>\n",
       "    </tr>\n",
       "    <tr>\n",
       "      <th>21238</th>\n",
       "      <td>Thousands more Rohingya flee to border as Myan...</td>\n",
       "      <td>COX S BAZAR, Bangladesh (Reuters) - More than ...</td>\n",
       "      <td>worldnews</td>\n",
       "      <td>August 30, 2017</td>\n",
       "    </tr>\n",
       "    <tr>\n",
       "      <th>20953</th>\n",
       "      <td>Russian court told that oil boss gave minister...</td>\n",
       "      <td>MOSCOW (Reuters) - A Russian court was told on...</td>\n",
       "      <td>worldnews</td>\n",
       "      <td>September 5, 2017</td>\n",
       "    </tr>\n",
       "    <tr>\n",
       "      <th>5038</th>\n",
       "      <td>Senate panel backs Trump nominee to be ambassa...</td>\n",
       "      <td>WASHINGTON (Reuters) - The U.S. Senate Foreign...</td>\n",
       "      <td>politicsNews</td>\n",
       "      <td>March 9, 2017</td>\n",
       "    </tr>\n",
       "  </tbody>\n",
       "</table>\n",
       "</div>"
      ],
      "text/plain": [
       "                                                   title  \\\n",
       "364    Kremlin says Putin not influenced by ex-Trump ...   \n",
       "8034   Netanyahu to meet Clinton and Trump during U.S...   \n",
       "19305  Russia tells North Korea, U.S. 'hot heads' to ...   \n",
       "6479   U.S. ambassadors appointed by Obama must quit ...   \n",
       "180    House and Senate reach deal on U.S. tax legisl...   \n",
       "16091  Convoy rolls into Damascus suburbs with aid fo...   \n",
       "7523          Clinton's pantsuits inspire flashmob video   \n",
       "21238  Thousands more Rohingya flee to border as Myan...   \n",
       "20953  Russian court told that oil boss gave minister...   \n",
       "5038   Senate panel backs Trump nominee to be ambassa...   \n",
       "\n",
       "                                                    text       subject  \\\n",
       "364    MOSCOW (Reuters) - The Kremlin said on Monday ...  politicsNews   \n",
       "8034   JERUSALEM (Reuters) - Israeli Prime Minister B...  politicsNews   \n",
       "19305  UNITED NATIONS (Reuters) - Russia s foreign mi...     worldnews   \n",
       "6479   (Reuters) - U.S. President-elect Donald Trump’...  politicsNews   \n",
       "180    WASHINGTON (Reuters) - U.S. Senate Finance Com...  politicsNews   \n",
       "16091  GENEVA (Reuters) - A convoy from the United Na...     worldnews   \n",
       "7523   (Reuters) - Hillary Clinton’s signature colorf...  politicsNews   \n",
       "21238  COX S BAZAR, Bangladesh (Reuters) - More than ...     worldnews   \n",
       "20953  MOSCOW (Reuters) - A Russian court was told on...     worldnews   \n",
       "5038   WASHINGTON (Reuters) - The U.S. Senate Foreign...  politicsNews   \n",
       "\n",
       "                      date  \n",
       "364      December 4, 2017   \n",
       "8034   September 24, 2016   \n",
       "19305  September 22, 2017   \n",
       "6479      January 6, 2017   \n",
       "180     December 13, 2017   \n",
       "16091    October 30, 2017   \n",
       "7523     November 7, 2016   \n",
       "21238     August 30, 2017   \n",
       "20953   September 5, 2017   \n",
       "5038        March 9, 2017   "
      ]
     },
     "execution_count": 75,
     "metadata": {},
     "output_type": "execute_result"
    }
   ],
   "source": [
    "#Getting some random rows from true news csv\n",
    "df_t.sample(10)"
   ]
  },
  {
   "cell_type": "code",
   "execution_count": 76,
   "id": "d8210e2c",
   "metadata": {},
   "outputs": [
    {
     "name": "stdout",
     "output_type": "stream",
     "text": [
      "<class 'pandas.core.frame.DataFrame'>\n",
      "RangeIndex: 23481 entries, 0 to 23480\n",
      "Data columns (total 4 columns):\n",
      " #   Column   Non-Null Count  Dtype \n",
      "---  ------   --------------  ----- \n",
      " 0   title    23481 non-null  object\n",
      " 1   text     23481 non-null  object\n",
      " 2   subject  23481 non-null  object\n",
      " 3   date     23481 non-null  object\n",
      "dtypes: object(4)\n",
      "memory usage: 733.9+ KB\n"
     ]
    }
   ],
   "source": [
    "#Getting inforamation of fake news csv\n",
    "df_f.info()"
   ]
  },
  {
   "cell_type": "code",
   "execution_count": 77,
   "id": "d74e7c1a",
   "metadata": {},
   "outputs": [
    {
     "name": "stdout",
     "output_type": "stream",
     "text": [
      "<class 'pandas.core.frame.DataFrame'>\n",
      "RangeIndex: 21417 entries, 0 to 21416\n",
      "Data columns (total 4 columns):\n",
      " #   Column   Non-Null Count  Dtype \n",
      "---  ------   --------------  ----- \n",
      " 0   title    21417 non-null  object\n",
      " 1   text     21417 non-null  object\n",
      " 2   subject  21417 non-null  object\n",
      " 3   date     21417 non-null  object\n",
      "dtypes: object(4)\n",
      "memory usage: 669.4+ KB\n"
     ]
    }
   ],
   "source": [
    "#Getting inforamation of true news csv\n",
    "df_t.info()"
   ]
  },
  {
   "cell_type": "code",
   "execution_count": 78,
   "id": "ba2d7fb3",
   "metadata": {},
   "outputs": [],
   "source": [
    "import random as rn"
   ]
  },
  {
   "cell_type": "code",
   "execution_count": 79,
   "id": "4d04b13b",
   "metadata": {},
   "outputs": [
    {
     "name": "stdout",
     "output_type": "stream",
     "text": [
      "Task done\n"
     ]
    }
   ],
   "source": [
    "#After that we find no null data in both dataframes \n",
    "#we must decrease length of fake news datframe to length of true news datframe\n",
    "selected_from_fake_news = rn.sample(df_f['text'].to_numpy().tolist(),len(df_t))\n",
    "if len(selected_from_fake_news) == len(df_t) :\n",
    "    print('Task done')"
   ]
  },
  {
   "cell_type": "code",
   "execution_count": 80,
   "id": "89d1afdd",
   "metadata": {},
   "outputs": [],
   "source": [
    "#Attaching any label to relevant text .\n",
    "true_list = df_t['text'].to_numpy().tolist()\n",
    "ready_f = list()\n",
    "ready_t = list()\n",
    "for idx in range(len(selected_from_fake_news)) :\n",
    "    val_f = [selected_from_fake_news[idx],0]\n",
    "    ready_f.append(val_f)\n",
    "    val_t = [true_list[idx],1]\n",
    "    ready_t.append(val_t)\n",
    "#Combining them and shuffling them .\n",
    "ready_f.extend(ready_t)\n",
    "finall = rn.sample(ready_f,len(ready_f))"
   ]
  },
  {
   "cell_type": "code",
   "execution_count": 81,
   "id": "07e377ae",
   "metadata": {},
   "outputs": [
    {
     "data": {
      "text/html": [
       "<div>\n",
       "<style scoped>\n",
       "    .dataframe tbody tr th:only-of-type {\n",
       "        vertical-align: middle;\n",
       "    }\n",
       "\n",
       "    .dataframe tbody tr th {\n",
       "        vertical-align: top;\n",
       "    }\n",
       "\n",
       "    .dataframe thead th {\n",
       "        text-align: right;\n",
       "    }\n",
       "</style>\n",
       "<table border=\"1\" class=\"dataframe\">\n",
       "  <thead>\n",
       "    <tr style=\"text-align: right;\">\n",
       "      <th></th>\n",
       "      <th>Text</th>\n",
       "      <th>Label</th>\n",
       "    </tr>\n",
       "  </thead>\n",
       "  <tbody>\n",
       "    <tr>\n",
       "      <th>8528</th>\n",
       "      <td>Morning Joe  hosts Mika Brzezinski and Joe Sc...</td>\n",
       "      <td>0</td>\n",
       "    </tr>\n",
       "    <tr>\n",
       "      <th>31944</th>\n",
       "      <td>WASHINGTON (Reuters) - A U.S. Senate committee...</td>\n",
       "      <td>1</td>\n",
       "    </tr>\n",
       "    <tr>\n",
       "      <th>6065</th>\n",
       "      <td>US Army M1126 Stryker armoured vehicles rolle...</td>\n",
       "      <td>0</td>\n",
       "    </tr>\n",
       "    <tr>\n",
       "      <th>19434</th>\n",
       "      <td>CHICAGO (Reuters) - The White House budget on ...</td>\n",
       "      <td>1</td>\n",
       "    </tr>\n",
       "    <tr>\n",
       "      <th>26276</th>\n",
       "      <td>KABUL (Reuters) - The commander of the Taliban...</td>\n",
       "      <td>1</td>\n",
       "    </tr>\n",
       "    <tr>\n",
       "      <th>9840</th>\n",
       "      <td>Madeleine Albright, who served as Secretary of...</td>\n",
       "      <td>0</td>\n",
       "    </tr>\n",
       "    <tr>\n",
       "      <th>17430</th>\n",
       "      <td>Has our lawless President finally conceded tha...</td>\n",
       "      <td>0</td>\n",
       "    </tr>\n",
       "    <tr>\n",
       "      <th>22885</th>\n",
       "      <td>AMMAN (Reuters) - Jordan s King Abdullah told ...</td>\n",
       "      <td>1</td>\n",
       "    </tr>\n",
       "    <tr>\n",
       "      <th>23167</th>\n",
       "      <td>Donald Trump is known for his controversial an...</td>\n",
       "      <td>0</td>\n",
       "    </tr>\n",
       "    <tr>\n",
       "      <th>22804</th>\n",
       "      <td>Jeb Bush is desperate for people to support hi...</td>\n",
       "      <td>0</td>\n",
       "    </tr>\n",
       "  </tbody>\n",
       "</table>\n",
       "</div>"
      ],
      "text/plain": [
       "                                                    Text  Label\n",
       "8528    Morning Joe  hosts Mika Brzezinski and Joe Sc...      0\n",
       "31944  WASHINGTON (Reuters) - A U.S. Senate committee...      1\n",
       "6065    US Army M1126 Stryker armoured vehicles rolle...      0\n",
       "19434  CHICAGO (Reuters) - The White House budget on ...      1\n",
       "26276  KABUL (Reuters) - The commander of the Taliban...      1\n",
       "9840   Madeleine Albright, who served as Secretary of...      0\n",
       "17430  Has our lawless President finally conceded tha...      0\n",
       "22885  AMMAN (Reuters) - Jordan s King Abdullah told ...      1\n",
       "23167  Donald Trump is known for his controversial an...      0\n",
       "22804  Jeb Bush is desperate for people to support hi...      0"
      ]
     },
     "execution_count": 81,
     "metadata": {},
     "output_type": "execute_result"
    }
   ],
   "source": [
    "#Make a dataframe of that and Getting ten randomly samples of that . \n",
    "finall_df = pd.DataFrame(finall,columns=['Text','Label'])\n",
    "finall_df.sample(10)"
   ]
  },
  {
   "cell_type": "code",
   "execution_count": 82,
   "id": "a4d57757",
   "metadata": {},
   "outputs": [],
   "source": [
    "#Creating a function to remove stop words from each text .\n",
    "def Filter(text)->str :\n",
    "    '''function docstring'''\n",
    "    stopwords = [\"a\", \"about\", \"above\", \"after\", \"again\", \"against\", \"all\", \"am\", \"an\", \"and\", \"any\", \"are\", \"as\", \"at\", \"be\", \"because\", \"been\", \"before\", \"being\", \"below\", \"between\", \"both\", \"but\", \"by\", \"could\", \"did\", \"do\", \"does\", \"doing\", \"down\", \"during\", \"each\", \"few\", \"for\", \"from\", \"further\", \"had\", \"has\", \"have\", \"having\", \"he\", \"he'd\", \"he'll\", \"he's\", \"her\", \"here\", \"here's\", \"hers\", \"herself\", \"him\", \"himself\", \"his\", \"how\", \"how's\", \"i\", \"i'd\", \"i'll\", \"i'm\", \"i've\", \"if\", \"in\", \"into\", \"is\", \"it\", \"it's\", \"its\", \"itself\", \"let's\", \"me\", \"more\", \"most\", \"my\", \"myself\", \"nor\", \"of\", \"on\", \"once\", \"only\", \"or\", \"other\", \"ought\", \"our\", \"ours\", \"ourselves\", \"out\", \"over\", \"own\", \"same\", \"she\", \"she'd\", \"she'll\", \"she's\", \"should\", \"so\", \"some\", \"such\", \"than\", \"that\", \"that's\", \"the\", \"their\", \"theirs\", \"them\", \"themselves\", \"then\", \"there\", \"there's\", \"these\", \"they\", \"they'd\", \"they'll\", \"they're\", \"they've\", \"this\", \"those\", \"through\", \"to\", \"too\", \"under\", \"until\", \"up\", \"very\", \"was\", \"we\", \"we'd\", \"we'll\", \"we're\", \"we've\", \"were\", \"what\", \"what's\", \"when\", \"when's\", \"where\", \"where's\", \"which\", \"while\", \"who\", \"who's\", \"whom\", \"why\", \"why's\", \"with\", \"would\", \"you\", \"you'd\", \"you'll\", \"you're\", \"you've\", \"your\", \"yours\", \"yourself\", \"yourselves\" ]\n",
    "    temp = ''\n",
    "    text = text.lower()\n",
    "    for word in text.split() :\n",
    "        if word not in stopwords :\n",
    "            temp += word\n",
    "            temp += ' '\n",
    "    return temp[:-1]"
   ]
  },
  {
   "cell_type": "code",
   "execution_count": 83,
   "id": "08c7a707",
   "metadata": {},
   "outputs": [],
   "source": [
    "#Extracting features \n",
    "feature = [Filter(text) for text in finall_df['Text']]"
   ]
  },
  {
   "cell_type": "code",
   "execution_count": 84,
   "id": "0b7e7089",
   "metadata": {},
   "outputs": [],
   "source": [
    "#Extracting labels\n",
    "labels = finall_df['Label'].to_numpy().reshape(-1,1)"
   ]
  },
  {
   "cell_type": "code",
   "execution_count": 85,
   "id": "a18dbea9",
   "metadata": {},
   "outputs": [],
   "source": [
    "#Importing needed modules . \n",
    "from tensorflow.keras.preprocessing.text import Tokenizer\n",
    "from tensorflow.keras.preprocessing.sequence import pad_sequences\n",
    "tokenizer = Tokenizer(oov_token='<00U00>')"
   ]
  },
  {
   "cell_type": "code",
   "execution_count": 86,
   "id": "bcd5b4f1",
   "metadata": {},
   "outputs": [],
   "source": [
    "#Tokenizing texts\n",
    "tokenizer.fit_on_texts(feature)\n",
    "#Converting them to sequneces\n",
    "sequences = tokenizer.texts_to_sequences(feature)"
   ]
  },
  {
   "cell_type": "code",
   "execution_count": 87,
   "id": "ad1f076a",
   "metadata": {},
   "outputs": [],
   "source": [
    "#Making a matrix of sequences \n",
    "ready_sequences = pad_sequences(sequences,padding='post',truncating='post',maxlen=15)"
   ]
  },
  {
   "cell_type": "code",
   "execution_count": 88,
   "id": "91df2566",
   "metadata": {},
   "outputs": [
    {
     "data": {
      "text/plain": [
       "array([2102,   16,  601, 2308, 1610, 4631,  432,  605,   18, 1049,  973,\n",
       "        782, 1197,   32,  180])"
      ]
     },
     "execution_count": 88,
     "metadata": {},
     "output_type": "execute_result"
    }
   ],
   "source": [
    "#How does it look like in fisrt sample ?\n",
    "ready_sequences[0]"
   ]
  },
  {
   "cell_type": "code",
   "execution_count": 89,
   "id": "9d7c862a",
   "metadata": {},
   "outputs": [],
   "source": [
    "#Splitting train and valodation data .\n",
    "idx = (90 * len(feature)) // 100\n",
    "train = ready_sequences[:idx]\n",
    "train_label = labels[:idx]\n",
    "valid = ready_sequences[idx:]\n",
    "valid_label = labels[idx:]"
   ]
  },
  {
   "cell_type": "code",
   "execution_count": 90,
   "id": "8a4d6f2a",
   "metadata": {},
   "outputs": [
    {
     "name": "stdout",
     "output_type": "stream",
     "text": [
      "(38550, 15)\n",
      "(38550, 1)\n",
      "(4284, 15)\n",
      "(4284, 1)\n"
     ]
    }
   ],
   "source": [
    "print(train.shape)\n",
    "print(train_label.shape)\n",
    "print(valid.shape)\n",
    "print(valid_label.shape)"
   ]
  },
  {
   "cell_type": "code",
   "execution_count": 91,
   "id": "16c94550",
   "metadata": {},
   "outputs": [],
   "source": [
    "#Building our model by a function .\n",
    "from tensorflow.keras import layers , models\n",
    "def Create_model()->None :\n",
    "    '''function docstring'''\n",
    "    model = models.Sequential([layers.Embedding(len(tokenizer.word_index),16,input_length=15)\n",
    "                              ,layers.GlobalAveragePooling1D()\n",
    "                              ,layers.Dense(6,activation='relu')\n",
    "                              ,layers.Dense(1,activation='sigmoid')])\n",
    "    model.compile(optimizer='adam',loss='binary_crossentropy',metrics=['accuracy'])\n",
    "    return model"
   ]
  },
  {
   "cell_type": "code",
   "execution_count": 92,
   "id": "683d1e81",
   "metadata": {},
   "outputs": [
    {
     "name": "stdout",
     "output_type": "stream",
     "text": [
      "Epoch 1/5\n",
      "1205/1205 [==============================] - 72s 58ms/step - loss: 0.1628 - accuracy: 0.9803 - val_loss: 0.0190 - val_accuracy: 0.9958\n",
      "Epoch 2/5\n",
      "1205/1205 [==============================] - 71s 59ms/step - loss: 0.0061 - accuracy: 0.9992 - val_loss: 0.0114 - val_accuracy: 0.9979\n",
      "Epoch 3/5\n",
      "1205/1205 [==============================] - 71s 59ms/step - loss: 0.0019 - accuracy: 0.9997 - val_loss: 0.0109 - val_accuracy: 0.9979\n",
      "Epoch 4/5\n",
      "1205/1205 [==============================] - 71s 59ms/step - loss: 8.7127e-04 - accuracy: 0.9999 - val_loss: 0.0106 - val_accuracy: 0.9984\n",
      "Epoch 5/5\n",
      "1205/1205 [==============================] - 74s 62ms/step - loss: 5.3086e-04 - accuracy: 0.9999 - val_loss: 0.0107 - val_accuracy: 0.9981\n"
     ]
    }
   ],
   "source": [
    "#Training datas with 5 epoch .\n",
    "history = Create_model().fit(train,train_label,epochs=5,validation_data=(valid,valid_label))"
   ]
  },
  {
   "cell_type": "code",
   "execution_count": 93,
   "id": "d20e3a21",
   "metadata": {},
   "outputs": [
    {
     "data": {
      "image/png": "[encoded data removed]",
      "text/plain": [
       "<Figure size 640x480 with 1 Axes>"
      ]
     },
     "metadata": {},
     "output_type": "display_data"
    },
    {
     "data": {
      "image/png": "[encoded data removed]",
      "text/plain": [
       "<Figure size 640x480 with 1 Axes>"
      ]
     },
     "metadata": {},
     "output_type": "display_data"
    }
   ],
   "source": [
    "#Visualize models performance\n",
    "import matplotlib.pyplot as plt\n",
    "epoch = range(1,6)\n",
    "results = history.history\n",
    "plt.plot(epoch,results['accuracy'],'blue')\n",
    "plt.plot(epoch,results['val_accuracy'],'red')\n",
    "plt.xlabel('Epochs')\n",
    "plt.ylabel('Accuracy')\n",
    "plt.title('True_or_False')\n",
    "plt.show()\n",
    "plt.plot(epoch,results['loss'],'blue')\n",
    "plt.plot(epoch,results['val_loss'],'red')\n",
    "plt.xlabel('Epochs')\n",
    "plt.ylabel('Loss')\n",
    "plt.title('True_or_False')\n",
    "plt.show()"
   ]
  },
  {
   "cell_type": "code",
   "execution_count": null,
   "id": "f84ea59e",
   "metadata": {},
   "outputs": [],
   "source": []
  }
 ],
 "metadata": {
  "kernelspec": {
   "display_name": "Python 3 (ipykernel)",
   "language": "python",
   "name": "python3"
  },
  "language_info": {
   "codemirror_mode": {
    "name": "ipython",
    "version": 3
   },
   "file_extension": ".py",
   "mimetype": "text/x-python",
   "name": "python",
   "nbconvert_exporter": "python",
   "pygments_lexer": "ipython3",
   "version": "3.9.13"
  }
 },
 "nbformat": 4,
 "nbformat_minor": 5
}
