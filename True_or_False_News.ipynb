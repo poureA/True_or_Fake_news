{
 "cells": [
  {
   "cell_type": "code",
   "execution_count": 1,
   "id": "37966508",
   "metadata": {},
   "outputs": [],
   "source": [
    "import pandas as pd"
   ]
  },
  {
   "cell_type": "code",
   "execution_count": 2,
   "id": "394071f8",
   "metadata": {},
   "outputs": [],
   "source": [
    "#Reading csv files and making copy of them\n",
    "file_fake = pd.read_csv(\"D:\\\\datasets\\\\T_or_F_News\\\\Fake.csv\")\n",
    "file_true = pd.read_csv(\"D:\\\\datasets\\\\T_or_F_News\\\\True.csv\")\n",
    "df_f = file_fake.copy()\n",
    "df_t = file_true.copy()"
   ]
  },
  {
   "cell_type": "code",
   "execution_count": 3,
   "id": "b2535b45",
   "metadata": {},
   "outputs": [
    {
     "data": {
      "text/html": [
       "<div>\n",
       "<style scoped>\n",
       "    .dataframe tbody tr th:only-of-type {\n",
       "        vertical-align: middle;\n",
       "    }\n",
       "\n",
       "    .dataframe tbody tr th {\n",
       "        vertical-align: top;\n",
       "    }\n",
       "\n",
       "    .dataframe thead th {\n",
       "        text-align: right;\n",
       "    }\n",
       "</style>\n",
       "<table border=\"1\" class=\"dataframe\">\n",
       "  <thead>\n",
       "    <tr style=\"text-align: right;\">\n",
       "      <th></th>\n",
       "      <th>title</th>\n",
       "      <th>text</th>\n",
       "      <th>subject</th>\n",
       "      <th>date</th>\n",
       "    </tr>\n",
       "  </thead>\n",
       "  <tbody>\n",
       "    <tr>\n",
       "      <th>3973</th>\n",
       "      <td>Trump Supporters Just DESTROYED A Black Churc...</td>\n",
       "      <td>Just a few days before election day, Donald Tr...</td>\n",
       "      <td>News</td>\n",
       "      <td>November 2, 2016</td>\n",
       "    </tr>\n",
       "    <tr>\n",
       "      <th>11716</th>\n",
       "      <td>BREAKING #BetsyDeVos CONFIRMED: DEMOCRATS SEET...</td>\n",
       "      <td>Watch History in the making!@VP breaks the TIE...</td>\n",
       "      <td>politics</td>\n",
       "      <td>Feb 7, 2017</td>\n",
       "    </tr>\n",
       "    <tr>\n",
       "      <th>13087</th>\n",
       "      <td>CLINTON’S EPIC LABOR DAY COUGH ATTACK: Hillary...</td>\n",
       "      <td>A CLOSER LOOK   PLEASE LISTEN TO THE WAY SHE S...</td>\n",
       "      <td>politics</td>\n",
       "      <td>Sep 5, 2016</td>\n",
       "    </tr>\n",
       "    <tr>\n",
       "      <th>18970</th>\n",
       "      <td>YOU WON’T BELIEVE Who Rachel Maddow Blames for...</td>\n",
       "      <td></td>\n",
       "      <td>left-news</td>\n",
       "      <td>Mar 16, 2017</td>\n",
       "    </tr>\n",
       "    <tr>\n",
       "      <th>21937</th>\n",
       "      <td>US Thanksgiving Guide: How to Celebrate a Sord...</td>\n",
       "      <td>Table set for thanksgiving in Siem Reap. (Pho...</td>\n",
       "      <td>US_News</td>\n",
       "      <td>December 2, 2017</td>\n",
       "    </tr>\n",
       "    <tr>\n",
       "      <th>2963</th>\n",
       "      <td>Russians Mint ‘In Trump We Trust’ Coin To Com...</td>\n",
       "      <td>Just before the Inauguration for the president...</td>\n",
       "      <td>News</td>\n",
       "      <td>January 17, 2017</td>\n",
       "    </tr>\n",
       "    <tr>\n",
       "      <th>859</th>\n",
       "      <td>Trump Now Says Wall May Not Need A Wall To Co...</td>\n",
       "      <td>Keeping in line with his constant backtracking...</td>\n",
       "      <td>News</td>\n",
       "      <td>July 14, 2017</td>\n",
       "    </tr>\n",
       "    <tr>\n",
       "      <th>13420</th>\n",
       "      <td>SHOCKING VIDEO: Congressman Caught In Meltdown...</td>\n",
       "      <td>Crazy video of Congressman Alan Grayson going ...</td>\n",
       "      <td>politics</td>\n",
       "      <td>Jul 26, 2016</td>\n",
       "    </tr>\n",
       "    <tr>\n",
       "      <th>3565</th>\n",
       "      <td>Dick Cheney To Reporter: Because Trump Uses T...</td>\n",
       "      <td>Throughout his campaign, Donald Trump repeated...</td>\n",
       "      <td>News</td>\n",
       "      <td>December 4, 2016</td>\n",
       "    </tr>\n",
       "    <tr>\n",
       "      <th>21995</th>\n",
       "      <td>MSM Fake News: How Washington Post Sexed-up it...</td>\n",
       "      <td>This is a story about how once trusted mainstr...</td>\n",
       "      <td>US_News</td>\n",
       "      <td>September 26, 2017</td>\n",
       "    </tr>\n",
       "  </tbody>\n",
       "</table>\n",
       "</div>"
      ],
      "text/plain": [
       "                                                   title  \\\n",
       "3973    Trump Supporters Just DESTROYED A Black Churc...   \n",
       "11716  BREAKING #BetsyDeVos CONFIRMED: DEMOCRATS SEET...   \n",
       "13087  CLINTON’S EPIC LABOR DAY COUGH ATTACK: Hillary...   \n",
       "18970  YOU WON’T BELIEVE Who Rachel Maddow Blames for...   \n",
       "21937  US Thanksgiving Guide: How to Celebrate a Sord...   \n",
       "2963    Russians Mint ‘In Trump We Trust’ Coin To Com...   \n",
       "859     Trump Now Says Wall May Not Need A Wall To Co...   \n",
       "13420  SHOCKING VIDEO: Congressman Caught In Meltdown...   \n",
       "3565    Dick Cheney To Reporter: Because Trump Uses T...   \n",
       "21995  MSM Fake News: How Washington Post Sexed-up it...   \n",
       "\n",
       "                                                    text    subject  \\\n",
       "3973   Just a few days before election day, Donald Tr...       News   \n",
       "11716  Watch History in the making!@VP breaks the TIE...   politics   \n",
       "13087  A CLOSER LOOK   PLEASE LISTEN TO THE WAY SHE S...   politics   \n",
       "18970                                                     left-news   \n",
       "21937   Table set for thanksgiving in Siem Reap. (Pho...    US_News   \n",
       "2963   Just before the Inauguration for the president...       News   \n",
       "859    Keeping in line with his constant backtracking...       News   \n",
       "13420  Crazy video of Congressman Alan Grayson going ...   politics   \n",
       "3565   Throughout his campaign, Donald Trump repeated...       News   \n",
       "21995  This is a story about how once trusted mainstr...    US_News   \n",
       "\n",
       "                     date  \n",
       "3973     November 2, 2016  \n",
       "11716         Feb 7, 2017  \n",
       "13087         Sep 5, 2016  \n",
       "18970        Mar 16, 2017  \n",
       "21937    December 2, 2017  \n",
       "2963     January 17, 2017  \n",
       "859         July 14, 2017  \n",
       "13420        Jul 26, 2016  \n",
       "3565     December 4, 2016  \n",
       "21995  September 26, 2017  "
      ]
     },
     "execution_count": 3,
     "metadata": {},
     "output_type": "execute_result"
    }
   ],
   "source": [
    "#Getting some random rows from fake news csv\n",
    "df_f.sample(10)"
   ]
  },
  {
   "cell_type": "code",
   "execution_count": 4,
   "id": "bfaf6a5b",
   "metadata": {},
   "outputs": [
    {
     "data": {
      "text/html": [
       "<div>\n",
       "<style scoped>\n",
       "    .dataframe tbody tr th:only-of-type {\n",
       "        vertical-align: middle;\n",
       "    }\n",
       "\n",
       "    .dataframe tbody tr th {\n",
       "        vertical-align: top;\n",
       "    }\n",
       "\n",
       "    .dataframe thead th {\n",
       "        text-align: right;\n",
       "    }\n",
       "</style>\n",
       "<table border=\"1\" class=\"dataframe\">\n",
       "  <thead>\n",
       "    <tr style=\"text-align: right;\">\n",
       "      <th></th>\n",
       "      <th>title</th>\n",
       "      <th>text</th>\n",
       "      <th>subject</th>\n",
       "      <th>date</th>\n",
       "    </tr>\n",
       "  </thead>\n",
       "  <tbody>\n",
       "    <tr>\n",
       "      <th>4086</th>\n",
       "      <td>Former U.S. officials to testify at May 8 Sena...</td>\n",
       "      <td>WASHINGTON (Reuters) - Two former U.S. officia...</td>\n",
       "      <td>politicsNews</td>\n",
       "      <td>April 25, 2017</td>\n",
       "    </tr>\n",
       "    <tr>\n",
       "      <th>2966</th>\n",
       "      <td>Two faces of Maine politics show rifts in stat...</td>\n",
       "      <td>(Reuters) - Maine’s two most prominent Republi...</td>\n",
       "      <td>politicsNews</td>\n",
       "      <td>June 29, 2017</td>\n",
       "    </tr>\n",
       "    <tr>\n",
       "      <th>2052</th>\n",
       "      <td>Trump hints at pardon for former Arizona Sheri...</td>\n",
       "      <td>PHOENIX (Reuters) - U.S. President Donald Trum...</td>\n",
       "      <td>politicsNews</td>\n",
       "      <td>August 22, 2017</td>\n",
       "    </tr>\n",
       "    <tr>\n",
       "      <th>7019</th>\n",
       "      <td>Senate to vote on Iran sanctions renewal this ...</td>\n",
       "      <td>WASHINGTON (Reuters) - The Senate will vote th...</td>\n",
       "      <td>politicsNews</td>\n",
       "      <td>November 29, 2016</td>\n",
       "    </tr>\n",
       "    <tr>\n",
       "      <th>4006</th>\n",
       "      <td>U.S. appeals court grants Trump request on cli...</td>\n",
       "      <td>WASHINGTON (Reuters) - A U.S. appeals court on...</td>\n",
       "      <td>politicsNews</td>\n",
       "      <td>April 28, 2017</td>\n",
       "    </tr>\n",
       "    <tr>\n",
       "      <th>17187</th>\n",
       "      <td>Xi says China will boost efforts to tackle ter...</td>\n",
       "      <td>BEIJING (Reuters) - China will step up efforts...</td>\n",
       "      <td>worldnews</td>\n",
       "      <td>October 18, 2017</td>\n",
       "    </tr>\n",
       "    <tr>\n",
       "      <th>4960</th>\n",
       "      <td>Trump to nominate CFTC acting head Giancarlo a...</td>\n",
       "      <td>WASHINGTON (Reuters) - President Donald Trump ...</td>\n",
       "      <td>politicsNews</td>\n",
       "      <td>March 15, 2017</td>\n",
       "    </tr>\n",
       "    <tr>\n",
       "      <th>9714</th>\n",
       "      <td>Obama takes Supreme Court fight to Republican ...</td>\n",
       "      <td>WASHINGTON (Reuters) - President Barack Obama ...</td>\n",
       "      <td>politicsNews</td>\n",
       "      <td>May 2, 2016</td>\n",
       "    </tr>\n",
       "    <tr>\n",
       "      <th>16959</th>\n",
       "      <td>Merkel presses allies to cut funds for Turkey'...</td>\n",
       "      <td>BRUSSELS (Reuters) - European leaders agreed o...</td>\n",
       "      <td>worldnews</td>\n",
       "      <td>October 19, 2017</td>\n",
       "    </tr>\n",
       "    <tr>\n",
       "      <th>16340</th>\n",
       "      <td>Mattis says no change in U.S. policy to protec...</td>\n",
       "      <td>SEOUL (Reuters) - U.S. Defense Secretary Jim M...</td>\n",
       "      <td>worldnews</td>\n",
       "      <td>October 27, 2017</td>\n",
       "    </tr>\n",
       "  </tbody>\n",
       "</table>\n",
       "</div>"
      ],
      "text/plain": [
       "                                                   title  \\\n",
       "4086   Former U.S. officials to testify at May 8 Sena...   \n",
       "2966   Two faces of Maine politics show rifts in stat...   \n",
       "2052   Trump hints at pardon for former Arizona Sheri...   \n",
       "7019   Senate to vote on Iran sanctions renewal this ...   \n",
       "4006   U.S. appeals court grants Trump request on cli...   \n",
       "17187  Xi says China will boost efforts to tackle ter...   \n",
       "4960   Trump to nominate CFTC acting head Giancarlo a...   \n",
       "9714   Obama takes Supreme Court fight to Republican ...   \n",
       "16959  Merkel presses allies to cut funds for Turkey'...   \n",
       "16340  Mattis says no change in U.S. policy to protec...   \n",
       "\n",
       "                                                    text       subject  \\\n",
       "4086   WASHINGTON (Reuters) - Two former U.S. officia...  politicsNews   \n",
       "2966   (Reuters) - Maine’s two most prominent Republi...  politicsNews   \n",
       "2052   PHOENIX (Reuters) - U.S. President Donald Trum...  politicsNews   \n",
       "7019   WASHINGTON (Reuters) - The Senate will vote th...  politicsNews   \n",
       "4006   WASHINGTON (Reuters) - A U.S. appeals court on...  politicsNews   \n",
       "17187  BEIJING (Reuters) - China will step up efforts...     worldnews   \n",
       "4960   WASHINGTON (Reuters) - President Donald Trump ...  politicsNews   \n",
       "9714   WASHINGTON (Reuters) - President Barack Obama ...  politicsNews   \n",
       "16959  BRUSSELS (Reuters) - European leaders agreed o...     worldnews   \n",
       "16340  SEOUL (Reuters) - U.S. Defense Secretary Jim M...     worldnews   \n",
       "\n",
       "                     date  \n",
       "4086      April 25, 2017   \n",
       "2966       June 29, 2017   \n",
       "2052     August 22, 2017   \n",
       "7019   November 29, 2016   \n",
       "4006      April 28, 2017   \n",
       "17187   October 18, 2017   \n",
       "4960      March 15, 2017   \n",
       "9714         May 2, 2016   \n",
       "16959   October 19, 2017   \n",
       "16340   October 27, 2017   "
      ]
     },
     "execution_count": 4,
     "metadata": {},
     "output_type": "execute_result"
    }
   ],
   "source": [
    "#Getting some random rows from true news csv\n",
    "df_t.sample(10)"
   ]
  },
  {
   "cell_type": "code",
   "execution_count": 5,
   "id": "d8210e2c",
   "metadata": {},
   "outputs": [
    {
     "name": "stdout",
     "output_type": "stream",
     "text": [
      "<class 'pandas.core.frame.DataFrame'>\n",
      "RangeIndex: 23481 entries, 0 to 23480\n",
      "Data columns (total 4 columns):\n",
      " #   Column   Non-Null Count  Dtype \n",
      "---  ------   --------------  ----- \n",
      " 0   title    23481 non-null  object\n",
      " 1   text     23481 non-null  object\n",
      " 2   subject  23481 non-null  object\n",
      " 3   date     23481 non-null  object\n",
      "dtypes: object(4)\n",
      "memory usage: 733.9+ KB\n"
     ]
    }
   ],
   "source": [
    "#Getting inforamation of fake news csv\n",
    "df_f.info()"
   ]
  },
  {
   "cell_type": "code",
   "execution_count": 6,
   "id": "d74e7c1a",
   "metadata": {},
   "outputs": [
    {
     "name": "stdout",
     "output_type": "stream",
     "text": [
      "<class 'pandas.core.frame.DataFrame'>\n",
      "RangeIndex: 21417 entries, 0 to 21416\n",
      "Data columns (total 4 columns):\n",
      " #   Column   Non-Null Count  Dtype \n",
      "---  ------   --------------  ----- \n",
      " 0   title    21417 non-null  object\n",
      " 1   text     21417 non-null  object\n",
      " 2   subject  21417 non-null  object\n",
      " 3   date     21417 non-null  object\n",
      "dtypes: object(4)\n",
      "memory usage: 669.4+ KB\n"
     ]
    }
   ],
   "source": [
    "#Getting inforamation of true news csv\n",
    "df_t.info()"
   ]
  },
  {
   "cell_type": "code",
   "execution_count": 7,
   "id": "ba2d7fb3",
   "metadata": {},
   "outputs": [],
   "source": [
    "import random as rn"
   ]
  },
  {
   "cell_type": "code",
   "execution_count": 8,
   "id": "4d04b13b",
   "metadata": {},
   "outputs": [
    {
     "name": "stdout",
     "output_type": "stream",
     "text": [
      "Task done\n"
     ]
    }
   ],
   "source": [
    "#After that we find no null data in both dataframes \n",
    "#we must decrease length of fake news datframe to length of true news datframe\n",
    "selected_from_fake_news = rn.sample(df_f['text'].to_numpy().tolist(),len(df_t))\n",
    "if len(selected_from_fake_news) == len(df_t) :\n",
    "    print('Task done')"
   ]
  },
  {
   "cell_type": "code",
   "execution_count": 9,
   "id": "89d1afdd",
   "metadata": {},
   "outputs": [],
   "source": [
    "#Attaching any label to relevant text .\n",
    "true_list = df_t['text'].to_numpy().tolist()\n",
    "ready_f = list()\n",
    "ready_t = list()\n",
    "for idx in range(len(selected_from_fake_news)) :\n",
    "    val_f = [selected_from_fake_news[idx],0]\n",
    "    ready_f.append(val_f)\n",
    "    val_t = [true_list[idx],1]\n",
    "    ready_t.append(val_t)\n",
    "#Combining them and shuffling them .\n",
    "ready_f.extend(ready_t)\n",
    "finall = rn.sample(ready_f,len(ready_f))"
   ]
  },
  {
   "cell_type": "code",
   "execution_count": 10,
   "id": "07e377ae",
   "metadata": {},
   "outputs": [
    {
     "data": {
      "text/html": [
       "<div>\n",
       "<style scoped>\n",
       "    .dataframe tbody tr th:only-of-type {\n",
       "        vertical-align: middle;\n",
       "    }\n",
       "\n",
       "    .dataframe tbody tr th {\n",
       "        vertical-align: top;\n",
       "    }\n",
       "\n",
       "    .dataframe thead th {\n",
       "        text-align: right;\n",
       "    }\n",
       "</style>\n",
       "<table border=\"1\" class=\"dataframe\">\n",
       "  <thead>\n",
       "    <tr style=\"text-align: right;\">\n",
       "      <th></th>\n",
       "      <th>Text</th>\n",
       "      <th>Label</th>\n",
       "    </tr>\n",
       "  </thead>\n",
       "  <tbody>\n",
       "    <tr>\n",
       "      <th>39763</th>\n",
       "      <td>Trump continued to claim credit for things wit...</td>\n",
       "      <td>0</td>\n",
       "    </tr>\n",
       "    <tr>\n",
       "      <th>30994</th>\n",
       "      <td>21st Century Wire says This is something which...</td>\n",
       "      <td>0</td>\n",
       "    </tr>\n",
       "    <tr>\n",
       "      <th>38736</th>\n",
       "      <td>WASHINGTON (Reuters) - U.S. President Barack O...</td>\n",
       "      <td>1</td>\n",
       "    </tr>\n",
       "    <tr>\n",
       "      <th>6382</th>\n",
       "      <td>Germans call it Backpfeifengesicht. It s a col...</td>\n",
       "      <td>0</td>\n",
       "    </tr>\n",
       "    <tr>\n",
       "      <th>17983</th>\n",
       "      <td>WHO IS THE ACLU PROTECTING? Certainly not the ...</td>\n",
       "      <td>0</td>\n",
       "    </tr>\n",
       "    <tr>\n",
       "      <th>15163</th>\n",
       "      <td>Presidential commutations and pardons are not ...</td>\n",
       "      <td>0</td>\n",
       "    </tr>\n",
       "    <tr>\n",
       "      <th>39468</th>\n",
       "      <td></td>\n",
       "      <td>0</td>\n",
       "    </tr>\n",
       "    <tr>\n",
       "      <th>20102</th>\n",
       "      <td>21st Century Wire says It s hard to not to dra...</td>\n",
       "      <td>0</td>\n",
       "    </tr>\n",
       "    <tr>\n",
       "      <th>18280</th>\n",
       "      <td>COPENHAGEN (Reuters) - An arm found by divers ...</td>\n",
       "      <td>1</td>\n",
       "    </tr>\n",
       "    <tr>\n",
       "      <th>11790</th>\n",
       "      <td>The majority of Republicans have fought tooth ...</td>\n",
       "      <td>0</td>\n",
       "    </tr>\n",
       "  </tbody>\n",
       "</table>\n",
       "</div>"
      ],
      "text/plain": [
       "                                                    Text  Label\n",
       "39763  Trump continued to claim credit for things wit...      0\n",
       "30994  21st Century Wire says This is something which...      0\n",
       "38736  WASHINGTON (Reuters) - U.S. President Barack O...      1\n",
       "6382   Germans call it Backpfeifengesicht. It s a col...      0\n",
       "17983  WHO IS THE ACLU PROTECTING? Certainly not the ...      0\n",
       "15163  Presidential commutations and pardons are not ...      0\n",
       "39468                                                         0\n",
       "20102  21st Century Wire says It s hard to not to dra...      0\n",
       "18280  COPENHAGEN (Reuters) - An arm found by divers ...      1\n",
       "11790  The majority of Republicans have fought tooth ...      0"
      ]
     },
     "execution_count": 10,
     "metadata": {},
     "output_type": "execute_result"
    }
   ],
   "source": [
    "#Make a dataframe of that and Getting ten randomly samples of that . \n",
    "finall_df = pd.DataFrame(finall,columns=['Text','Label'])\n",
    "finall_df.sample(10)"
   ]
  },
  {
   "cell_type": "code",
   "execution_count": 11,
   "id": "a4d57757",
   "metadata": {},
   "outputs": [],
   "source": [
    "#Creating a function to remove stop words from each text .\n",
    "def Filter(text)->str :\n",
    "    '''function docstring'''\n",
    "    stopwords = [\"a\", \"about\", \"above\", \"after\", \"again\", \"against\", \"all\", \"am\", \"an\", \"and\", \"any\", \"are\", \"as\", \"at\", \"be\", \"because\", \"been\", \"before\", \"being\", \"below\", \"between\", \"both\", \"but\", \"by\", \"could\", \"did\", \"do\", \"does\", \"doing\", \"down\", \"during\", \"each\", \"few\", \"for\", \"from\", \"further\", \"had\", \"has\", \"have\", \"having\", \"he\", \"he'd\", \"he'll\", \"he's\", \"her\", \"here\", \"here's\", \"hers\", \"herself\", \"him\", \"himself\", \"his\", \"how\", \"how's\", \"i\", \"i'd\", \"i'll\", \"i'm\", \"i've\", \"if\", \"in\", \"into\", \"is\", \"it\", \"it's\", \"its\", \"itself\", \"let's\", \"me\", \"more\", \"most\", \"my\", \"myself\", \"nor\", \"of\", \"on\", \"once\", \"only\", \"or\", \"other\", \"ought\", \"our\", \"ours\", \"ourselves\", \"out\", \"over\", \"own\", \"same\", \"she\", \"she'd\", \"she'll\", \"she's\", \"should\", \"so\", \"some\", \"such\", \"than\", \"that\", \"that's\", \"the\", \"their\", \"theirs\", \"them\", \"themselves\", \"then\", \"there\", \"there's\", \"these\", \"they\", \"they'd\", \"they'll\", \"they're\", \"they've\", \"this\", \"those\", \"through\", \"to\", \"too\", \"under\", \"until\", \"up\", \"very\", \"was\", \"we\", \"we'd\", \"we'll\", \"we're\", \"we've\", \"were\", \"what\", \"what's\", \"when\", \"when's\", \"where\", \"where's\", \"which\", \"while\", \"who\", \"who's\", \"whom\", \"why\", \"why's\", \"with\", \"would\", \"you\", \"you'd\", \"you'll\", \"you're\", \"you've\", \"your\", \"yours\", \"yourself\", \"yourselves\" ]\n",
    "    temp = ''\n",
    "    text = text.lower()\n",
    "    for word in text.split() :\n",
    "        if word not in stopwords :\n",
    "            temp += word\n",
    "            temp += ' '\n",
    "    return temp[:-1]"
   ]
  },
  {
   "cell_type": "code",
   "execution_count": 12,
   "id": "08c7a707",
   "metadata": {},
   "outputs": [],
   "source": [
    "#Extracting features \n",
    "feature = [Filter(text) for text in finall_df['Text']]"
   ]
  },
  {
   "cell_type": "code",
   "execution_count": 13,
   "id": "0b7e7089",
   "metadata": {},
   "outputs": [],
   "source": [
    "#Extracting labels\n",
    "labels = finall_df['Label'].to_numpy().reshape(-1,1)"
   ]
  },
  {
   "cell_type": "code",
   "execution_count": 14,
   "id": "a18dbea9",
   "metadata": {},
   "outputs": [],
   "source": [
    "#Importing needed modules . \n",
    "from tensorflow.keras.preprocessing.text import Tokenizer\n",
    "from tensorflow.keras.preprocessing.sequence import pad_sequences\n",
    "tokenizer = Tokenizer(oov_token='<00U00>')"
   ]
  },
  {
   "cell_type": "code",
   "execution_count": 15,
   "id": "bcd5b4f1",
   "metadata": {},
   "outputs": [],
   "source": [
    "#Tokenizing texts\n",
    "tokenizer.fit_on_texts(feature)\n",
    "#Converting them to sequneces\n",
    "sequences = tokenizer.texts_to_sequences(feature)"
   ]
  },
  {
   "cell_type": "code",
   "execution_count": 16,
   "id": "ad1f076a",
   "metadata": {},
   "outputs": [],
   "source": [
    "#Making a matrix of sequences \n",
    "ready_sequences = pad_sequences(sequences,padding='post',truncating='post',maxlen=15)"
   ]
  },
  {
   "cell_type": "code",
   "execution_count": 17,
   "id": "91df2566",
   "metadata": {},
   "outputs": [
    {
     "data": {
      "text/plain": [
       "array([ 2191,    93,  5452,    27,  8631,  2636,  2902,   455,    18,\n",
       "        2386,  1610, 11941,    98,  2139,   722])"
      ]
     },
     "execution_count": 17,
     "metadata": {},
     "output_type": "execute_result"
    }
   ],
   "source": [
    "#How does it look like in fisrt sample ?\n",
    "ready_sequences[0]"
   ]
  },
  {
   "cell_type": "code",
   "execution_count": 18,
   "id": "9d7c862a",
   "metadata": {},
   "outputs": [],
   "source": [
    "#Splitting train and valodation data .\n",
    "idx = (90 * len(feature)) // 100\n",
    "train = ready_sequences[:idx]\n",
    "train_label = labels[:idx]\n",
    "valid = ready_sequences[idx:]\n",
    "valid_label = labels[idx:]"
   ]
  },
  {
   "cell_type": "code",
   "execution_count": 19,
   "id": "8a4d6f2a",
   "metadata": {},
   "outputs": [
    {
     "name": "stdout",
     "output_type": "stream",
     "text": [
      "(38550, 15)\n",
      "(38550, 1)\n",
      "(4284, 15)\n",
      "(4284, 1)\n"
     ]
    }
   ],
   "source": [
    "print(train.shape)\n",
    "print(train_label.shape)\n",
    "print(valid.shape)\n",
    "print(valid_label.shape)"
   ]
  },
  {
   "cell_type": "code",
   "execution_count": 20,
   "id": "16c94550",
   "metadata": {},
   "outputs": [],
   "source": [
    "#Building our model by a function .\n",
    "from tensorflow.keras import layers , models\n",
    "def Create_model()->None :\n",
    "    '''function docstring'''\n",
    "    model = models.Sequential([layers.Embedding(len(tokenizer.word_index),16,input_length=15)\n",
    "                              ,layers.GlobalAveragePooling1D()\n",
    "                              ,layers.Dense(6,activation='relu')\n",
    "                              ,layers.Dense(1,activation='sigmoid')])\n",
    "    model.compile(optimizer='adam',loss='binary_crossentropy',metrics=['accuracy'])\n",
    "    return model"
   ]
  },
  {
   "cell_type": "code",
   "execution_count": 21,
   "id": "683d1e81",
   "metadata": {},
   "outputs": [
    {
     "name": "stdout",
     "output_type": "stream",
     "text": [
      "Epoch 1/5\n",
      "1205/1205 [==============================] - 67s 54ms/step - loss: 0.1726 - accuracy: 0.9797 - val_loss: 0.0190 - val_accuracy: 0.9972\n",
      "Epoch 2/5\n",
      "1205/1205 [==============================] - 61s 50ms/step - loss: 0.0084 - accuracy: 0.9989 - val_loss: 0.0072 - val_accuracy: 0.9991\n",
      "Epoch 3/5\n",
      "1205/1205 [==============================] - 69s 57ms/step - loss: 0.0027 - accuracy: 0.9995 - val_loss: 0.0049 - val_accuracy: 0.9993\n",
      "Epoch 4/5\n",
      "1205/1205 [==============================] - 72s 60ms/step - loss: 0.0012 - accuracy: 0.9998 - val_loss: 0.0043 - val_accuracy: 0.9993\n",
      "Epoch 5/5\n",
      "1205/1205 [==============================] - 79s 66ms/step - loss: 6.6557e-04 - accuracy: 0.9999 - val_loss: 0.0040 - val_accuracy: 0.9995\n"
     ]
    }
   ],
   "source": [
    "#Training datas with 5 epoch .\n",
    "history = Create_model().fit(train,train_label,epochs=5,validation_data=(valid,valid_label))"
   ]
  },
  {
   "cell_type": "code",
   "execution_count": 22,
   "id": "d20e3a21",
   "metadata": {},
   "outputs": [
    {
     "data": {
      "image/png": "[encoded data removed]",
      "text/plain": [
       "<Figure size 640x480 with 1 Axes>"
      ]
     },
     "metadata": {},
     "output_type": "display_data"
    },
    {
     "data": {
      "image/png": "[encoded data removed]",
      "text/plain": [
       "<Figure size 640x480 with 1 Axes>"
      ]
     },
     "metadata": {},
     "output_type": "display_data"
    }
   ],
   "source": [
    "#Visualize models performance\n",
    "import matplotlib.pyplot as plt\n",
    "epoch = range(1,6)\n",
    "results = history.history\n",
    "plt.plot(epoch,results['accuracy'],'blue')\n",
    "plt.plot(epoch,results['val_accuracy'],'red')\n",
    "plt.xlabel('Epochs')\n",
    "plt.ylabel('Accuracy')\n",
    "plt.title('True_or_False')\n",
    "plt.show()\n",
    "plt.plot(epoch,results['loss'],'blue')\n",
    "plt.plot(epoch,results['val_loss'],'red')\n",
    "plt.xlabel('Epochs')\n",
    "plt.ylabel('Loss')\n",
    "plt.title('True_or_False')\n",
    "plt.show()"
   ]
  },
  {
   "cell_type": "code",
   "execution_count": null,
   "id": "f84ea59e",
   "metadata": {},
   "outputs": [],
   "source": []
  }
 ],
 "metadata": {
  "kernelspec": {
   "display_name": "Python 3 (ipykernel)",
   "language": "python",
   "name": "python3"
  },
  "language_info": {
   "codemirror_mode": {
    "name": "ipython",
    "version": 3
   },
   "file_extension": ".py",
   "mimetype": "text/x-python",
   "name": "python",
   "nbconvert_exporter": "python",
   "pygments_lexer": "ipython3",
   "version": "3.9.13"
  }
 },
 "nbformat": 4,
 "nbformat_minor": 5
}
