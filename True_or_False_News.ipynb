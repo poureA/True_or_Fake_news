{
 "cells": [
  {
   "cell_type": "code",
   "execution_count": 33,
   "id": "2f26b78b",
   "metadata": {},
   "outputs": [],
   "source": [
    "import pandas as pd"
   ]
  },
  {
   "cell_type": "code",
   "execution_count": 34,
   "id": "45e1151c",
   "metadata": {},
   "outputs": [],
   "source": [
    "#Reading csv files and making copy of them\n",
    "file_fake = pd.read_csv(\"D:\\\\datasets\\\\T_or_F_News\\\\Fake.csv\")\n",
    "file_true = pd.read_csv(\"D:\\\\datasets\\\\T_or_F_News\\\\True.csv\")\n",
    "df_f = file_fake.copy()\n",
    "df_t = file_true.copy()"
   ]
  },
  {
   "cell_type": "code",
   "execution_count": 35,
   "id": "f4ad4947",
   "metadata": {},
   "outputs": [
    {
     "data": {
      "text/html": [
       "<div>\n",
       "<style scoped>\n",
       "    .dataframe tbody tr th:only-of-type {\n",
       "        vertical-align: middle;\n",
       "    }\n",
       "\n",
       "    .dataframe tbody tr th {\n",
       "        vertical-align: top;\n",
       "    }\n",
       "\n",
       "    .dataframe thead th {\n",
       "        text-align: right;\n",
       "    }\n",
       "</style>\n",
       "<table border=\"1\" class=\"dataframe\">\n",
       "  <thead>\n",
       "    <tr style=\"text-align: right;\">\n",
       "      <th></th>\n",
       "      <th>title</th>\n",
       "      <th>text</th>\n",
       "      <th>subject</th>\n",
       "      <th>date</th>\n",
       "    </tr>\n",
       "  </thead>\n",
       "  <tbody>\n",
       "    <tr>\n",
       "      <th>19031</th>\n",
       "      <td>LOL! CHUCKIE SCHUMER WARNS TRUMP Is “In Troubl...</td>\n",
       "      <td>The top Democrat in the Senate, Chuck Schumer ...</td>\n",
       "      <td>left-news</td>\n",
       "      <td>Mar 5, 2017</td>\n",
       "    </tr>\n",
       "    <tr>\n",
       "      <th>13506</th>\n",
       "      <td>FASCINATING: LIVE FEED OF COUP Unfolding In Tu...</td>\n",
       "      <td>LIVE FEED of Turkey s coup here:</td>\n",
       "      <td>politics</td>\n",
       "      <td>Jul 15, 2016</td>\n",
       "    </tr>\n",
       "    <tr>\n",
       "      <th>8495</th>\n",
       "      <td>GOP Continues Assault On Planned Parenthood E...</td>\n",
       "      <td>If you thought the Republican Party was going ...</td>\n",
       "      <td>News</td>\n",
       "      <td>January 27, 2016</td>\n",
       "    </tr>\n",
       "    <tr>\n",
       "      <th>12395</th>\n",
       "      <td>AMERICANS EXPECTED OBAMA TO CALL FOR CALM…Inst...</td>\n",
       "      <td>Isn t it the job of the CURRENT president to c...</td>\n",
       "      <td>politics</td>\n",
       "      <td>Nov 14, 2016</td>\n",
       "    </tr>\n",
       "    <tr>\n",
       "      <th>2798</th>\n",
       "      <td>REPORT: Five-Year-Old Girl Is Detained And Se...</td>\n",
       "      <td>Attorneys are racing to the defense of a child...</td>\n",
       "      <td>News</td>\n",
       "      <td>January 28, 2017</td>\n",
       "    </tr>\n",
       "    <tr>\n",
       "      <th>6509</th>\n",
       "      <td>WATCH: President Obama Issues Warning About T...</td>\n",
       "      <td>It s still hard to conceive that Donald Trump ...</td>\n",
       "      <td>News</td>\n",
       "      <td>May 6, 2016</td>\n",
       "    </tr>\n",
       "    <tr>\n",
       "      <th>20968</th>\n",
       "      <td>NOT SO FUNNY GUY, WILL FERRELL Throws His Supp...</td>\n",
       "      <td>Supporting Hillary is about as funny as an ebo...</td>\n",
       "      <td>left-news</td>\n",
       "      <td>Feb 21, 2016</td>\n",
       "    </tr>\n",
       "    <tr>\n",
       "      <th>18775</th>\n",
       "      <td>DIAMOND AND SILK Open Up LARGE Can Of WHOOP A$...</td>\n",
       "      <td>Hollywood actor James Woods tweeted about Trum...</td>\n",
       "      <td>left-news</td>\n",
       "      <td>Apr 22, 2017</td>\n",
       "    </tr>\n",
       "    <tr>\n",
       "      <th>4318</th>\n",
       "      <td>WATCH: Fox Hosts Crudely Brag That Hurricane ...</td>\n",
       "      <td>Hurricane Matthew is helping Republicans suppr...</td>\n",
       "      <td>News</td>\n",
       "      <td>October 7, 2016</td>\n",
       "    </tr>\n",
       "    <tr>\n",
       "      <th>13990</th>\n",
       "      <td>SOMEONE CALL THE Waaambulance! Glenn Beck Warn...</td>\n",
       "      <td>Hey Glenn, suicide is no laughing matter, and ...</td>\n",
       "      <td>politics</td>\n",
       "      <td>May 3, 2016</td>\n",
       "    </tr>\n",
       "  </tbody>\n",
       "</table>\n",
       "</div>"
      ],
      "text/plain": [
       "                                                   title  \\\n",
       "19031  LOL! CHUCKIE SCHUMER WARNS TRUMP Is “In Troubl...   \n",
       "13506  FASCINATING: LIVE FEED OF COUP Unfolding In Tu...   \n",
       "8495    GOP Continues Assault On Planned Parenthood E...   \n",
       "12395  AMERICANS EXPECTED OBAMA TO CALL FOR CALM…Inst...   \n",
       "2798    REPORT: Five-Year-Old Girl Is Detained And Se...   \n",
       "6509    WATCH: President Obama Issues Warning About T...   \n",
       "20968  NOT SO FUNNY GUY, WILL FERRELL Throws His Supp...   \n",
       "18775  DIAMOND AND SILK Open Up LARGE Can Of WHOOP A$...   \n",
       "4318    WATCH: Fox Hosts Crudely Brag That Hurricane ...   \n",
       "13990  SOMEONE CALL THE Waaambulance! Glenn Beck Warn...   \n",
       "\n",
       "                                                    text    subject  \\\n",
       "19031  The top Democrat in the Senate, Chuck Schumer ...  left-news   \n",
       "13506                  LIVE FEED of Turkey s coup here:    politics   \n",
       "8495   If you thought the Republican Party was going ...       News   \n",
       "12395  Isn t it the job of the CURRENT president to c...   politics   \n",
       "2798   Attorneys are racing to the defense of a child...       News   \n",
       "6509   It s still hard to conceive that Donald Trump ...       News   \n",
       "20968  Supporting Hillary is about as funny as an ebo...  left-news   \n",
       "18775  Hollywood actor James Woods tweeted about Trum...  left-news   \n",
       "4318   Hurricane Matthew is helping Republicans suppr...       News   \n",
       "13990  Hey Glenn, suicide is no laughing matter, and ...   politics   \n",
       "\n",
       "                   date  \n",
       "19031       Mar 5, 2017  \n",
       "13506      Jul 15, 2016  \n",
       "8495   January 27, 2016  \n",
       "12395      Nov 14, 2016  \n",
       "2798   January 28, 2017  \n",
       "6509        May 6, 2016  \n",
       "20968      Feb 21, 2016  \n",
       "18775      Apr 22, 2017  \n",
       "4318    October 7, 2016  \n",
       "13990       May 3, 2016  "
      ]
     },
     "execution_count": 35,
     "metadata": {},
     "output_type": "execute_result"
    }
   ],
   "source": [
    "#Getting some random rows from fake news csv\n",
    "df_f.sample(10)"
   ]
  },
  {
   "cell_type": "code",
   "execution_count": 36,
   "id": "ce3ab668",
   "metadata": {},
   "outputs": [
    {
     "data": {
      "text/html": [
       "<div>\n",
       "<style scoped>\n",
       "    .dataframe tbody tr th:only-of-type {\n",
       "        vertical-align: middle;\n",
       "    }\n",
       "\n",
       "    .dataframe tbody tr th {\n",
       "        vertical-align: top;\n",
       "    }\n",
       "\n",
       "    .dataframe thead th {\n",
       "        text-align: right;\n",
       "    }\n",
       "</style>\n",
       "<table border=\"1\" class=\"dataframe\">\n",
       "  <thead>\n",
       "    <tr style=\"text-align: right;\">\n",
       "      <th></th>\n",
       "      <th>title</th>\n",
       "      <th>text</th>\n",
       "      <th>subject</th>\n",
       "      <th>date</th>\n",
       "    </tr>\n",
       "  </thead>\n",
       "  <tbody>\n",
       "    <tr>\n",
       "      <th>4759</th>\n",
       "      <td>Top Senate Democrat says repealing essential b...</td>\n",
       "      <td>WASHINGTON (Reuters) - A spokesman for Senate ...</td>\n",
       "      <td>politicsNews</td>\n",
       "      <td>March 22, 2017</td>\n",
       "    </tr>\n",
       "    <tr>\n",
       "      <th>18739</th>\n",
       "      <td>China says one step forwards, two steps back n...</td>\n",
       "      <td>BEIJING (Reuters) - China s foreign minister o...</td>\n",
       "      <td>worldnews</td>\n",
       "      <td>September 29, 2017</td>\n",
       "    </tr>\n",
       "    <tr>\n",
       "      <th>19004</th>\n",
       "      <td>Brexit negotiations not ready for next stage y...</td>\n",
       "      <td>LONDON (Reuters) - Sufficient progress has not...</td>\n",
       "      <td>worldnews</td>\n",
       "      <td>September 26, 2017</td>\n",
       "    </tr>\n",
       "    <tr>\n",
       "      <th>6604</th>\n",
       "      <td>Trump discussed Mideast peace in call with Egy...</td>\n",
       "      <td>(Reuters) - U.S. President-elect Donald Trump ...</td>\n",
       "      <td>politicsNews</td>\n",
       "      <td>December 22, 2016</td>\n",
       "    </tr>\n",
       "    <tr>\n",
       "      <th>10597</th>\n",
       "      <td>Judicial panel members consider legal brief in...</td>\n",
       "      <td>WASHINGTON (Reuters) - Members of the House Ju...</td>\n",
       "      <td>politicsNews</td>\n",
       "      <td>March 1, 2016</td>\n",
       "    </tr>\n",
       "    <tr>\n",
       "      <th>2110</th>\n",
       "      <td>U.S. State Department email restored after glo...</td>\n",
       "      <td>WASHINGTON (Reuters) - The U.S. State Departme...</td>\n",
       "      <td>politicsNews</td>\n",
       "      <td>August 18, 2017</td>\n",
       "    </tr>\n",
       "    <tr>\n",
       "      <th>5501</th>\n",
       "      <td>Trump changes tack, backs 'one China' policy i...</td>\n",
       "      <td>BEIJING/WASHINGTON (Reuters) - U.S. President ...</td>\n",
       "      <td>politicsNews</td>\n",
       "      <td>February 10, 2017</td>\n",
       "    </tr>\n",
       "    <tr>\n",
       "      <th>9364</th>\n",
       "      <td>Trump vows to undo Obama's climate agenda in a...</td>\n",
       "      <td>BISMARCK, N.D. (Reuters) - Donald Trump, the p...</td>\n",
       "      <td>politicsNews</td>\n",
       "      <td>May 26, 2016</td>\n",
       "    </tr>\n",
       "    <tr>\n",
       "      <th>19615</th>\n",
       "      <td>China offers support for strife-torn Venezuela...</td>\n",
       "      <td>BEIJING (Reuters) - China believes that the Ve...</td>\n",
       "      <td>worldnews</td>\n",
       "      <td>September 20, 2017</td>\n",
       "    </tr>\n",
       "    <tr>\n",
       "      <th>7059</th>\n",
       "      <td>Trump names Don McGahn as White House Counsel ...</td>\n",
       "      <td>WASHINGTON/WEST PALM BEACH, Fla. (Reuters) - U...</td>\n",
       "      <td>politicsNews</td>\n",
       "      <td>November 25, 2016</td>\n",
       "    </tr>\n",
       "  </tbody>\n",
       "</table>\n",
       "</div>"
      ],
      "text/plain": [
       "                                                   title  \\\n",
       "4759   Top Senate Democrat says repealing essential b...   \n",
       "18739  China says one step forwards, two steps back n...   \n",
       "19004  Brexit negotiations not ready for next stage y...   \n",
       "6604   Trump discussed Mideast peace in call with Egy...   \n",
       "10597  Judicial panel members consider legal brief in...   \n",
       "2110   U.S. State Department email restored after glo...   \n",
       "5501   Trump changes tack, backs 'one China' policy i...   \n",
       "9364   Trump vows to undo Obama's climate agenda in a...   \n",
       "19615  China offers support for strife-torn Venezuela...   \n",
       "7059   Trump names Don McGahn as White House Counsel ...   \n",
       "\n",
       "                                                    text       subject  \\\n",
       "4759   WASHINGTON (Reuters) - A spokesman for Senate ...  politicsNews   \n",
       "18739  BEIJING (Reuters) - China s foreign minister o...     worldnews   \n",
       "19004  LONDON (Reuters) - Sufficient progress has not...     worldnews   \n",
       "6604   (Reuters) - U.S. President-elect Donald Trump ...  politicsNews   \n",
       "10597  WASHINGTON (Reuters) - Members of the House Ju...  politicsNews   \n",
       "2110   WASHINGTON (Reuters) - The U.S. State Departme...  politicsNews   \n",
       "5501   BEIJING/WASHINGTON (Reuters) - U.S. President ...  politicsNews   \n",
       "9364   BISMARCK, N.D. (Reuters) - Donald Trump, the p...  politicsNews   \n",
       "19615  BEIJING (Reuters) - China believes that the Ve...     worldnews   \n",
       "7059   WASHINGTON/WEST PALM BEACH, Fla. (Reuters) - U...  politicsNews   \n",
       "\n",
       "                      date  \n",
       "4759       March 22, 2017   \n",
       "18739  September 29, 2017   \n",
       "19004  September 26, 2017   \n",
       "6604    December 22, 2016   \n",
       "10597       March 1, 2016   \n",
       "2110      August 18, 2017   \n",
       "5501    February 10, 2017   \n",
       "9364         May 26, 2016   \n",
       "19615  September 20, 2017   \n",
       "7059    November 25, 2016   "
      ]
     },
     "execution_count": 36,
     "metadata": {},
     "output_type": "execute_result"
    }
   ],
   "source": [
    "#Getting some random rows from true news csv\n",
    "df_t.sample(10)"
   ]
  },
  {
   "cell_type": "code",
   "execution_count": 37,
   "id": "78528810",
   "metadata": {},
   "outputs": [
    {
     "name": "stdout",
     "output_type": "stream",
     "text": [
      "<class 'pandas.core.frame.DataFrame'>\n",
      "RangeIndex: 23481 entries, 0 to 23480\n",
      "Data columns (total 4 columns):\n",
      " #   Column   Non-Null Count  Dtype \n",
      "---  ------   --------------  ----- \n",
      " 0   title    23481 non-null  object\n",
      " 1   text     23481 non-null  object\n",
      " 2   subject  23481 non-null  object\n",
      " 3   date     23481 non-null  object\n",
      "dtypes: object(4)\n",
      "memory usage: 733.9+ KB\n"
     ]
    }
   ],
   "source": [
    "#Getting inforamation of fake news csv\n",
    "df_f.info()"
   ]
  },
  {
   "cell_type": "code",
   "execution_count": 38,
   "id": "26872f14",
   "metadata": {},
   "outputs": [
    {
     "name": "stdout",
     "output_type": "stream",
     "text": [
      "<class 'pandas.core.frame.DataFrame'>\n",
      "RangeIndex: 21417 entries, 0 to 21416\n",
      "Data columns (total 4 columns):\n",
      " #   Column   Non-Null Count  Dtype \n",
      "---  ------   --------------  ----- \n",
      " 0   title    21417 non-null  object\n",
      " 1   text     21417 non-null  object\n",
      " 2   subject  21417 non-null  object\n",
      " 3   date     21417 non-null  object\n",
      "dtypes: object(4)\n",
      "memory usage: 669.4+ KB\n"
     ]
    }
   ],
   "source": [
    "#Getting inforamation of true news csv\n",
    "df_t.info()"
   ]
  },
  {
   "cell_type": "code",
   "execution_count": 39,
   "id": "c3782e72",
   "metadata": {},
   "outputs": [],
   "source": [
    "import random as rn"
   ]
  },
  {
   "cell_type": "code",
   "execution_count": 40,
   "id": "8f268e05",
   "metadata": {},
   "outputs": [
    {
     "name": "stdout",
     "output_type": "stream",
     "text": [
      "Task done\n"
     ]
    }
   ],
   "source": [
    "#After that we find no null data in both dataframes \n",
    "#we must decrease length of fake news datframe to length of true news datframe\n",
    "selected_from_fake_news = rn.sample(df_f['text'].to_numpy().tolist(),len(df_t))\n",
    "if len(selected_from_fake_news) == len(df_t) :\n",
    "    print('Task done')"
   ]
  },
  {
   "cell_type": "code",
   "execution_count": 41,
   "id": "0b29cdee",
   "metadata": {},
   "outputs": [],
   "source": [
    "#Attaching any label to relevant text .\n",
    "true_list = df_t['text'].to_numpy().tolist()\n",
    "ready_f = list()\n",
    "ready_t = list()\n",
    "for idx in range(len(selected_from_fake_news)) :\n",
    "    val_f = [selected_from_fake_news[idx],0]\n",
    "    ready_f.append(val_f)\n",
    "    val_t = [true_list[idx],1]\n",
    "    ready_t.append(val_t)\n",
    "#Combining them and shuffling them .\n",
    "ready_f.extend(ready_t)\n",
    "finall = rn.sample(ready_f,len(ready_f))"
   ]
  },
  {
   "cell_type": "code",
   "execution_count": 42,
   "id": "620bef5c",
   "metadata": {},
   "outputs": [
    {
     "data": {
      "text/html": [
       "<div>\n",
       "<style scoped>\n",
       "    .dataframe tbody tr th:only-of-type {\n",
       "        vertical-align: middle;\n",
       "    }\n",
       "\n",
       "    .dataframe tbody tr th {\n",
       "        vertical-align: top;\n",
       "    }\n",
       "\n",
       "    .dataframe thead th {\n",
       "        text-align: right;\n",
       "    }\n",
       "</style>\n",
       "<table border=\"1\" class=\"dataframe\">\n",
       "  <thead>\n",
       "    <tr style=\"text-align: right;\">\n",
       "      <th></th>\n",
       "      <th>Text</th>\n",
       "      <th>Label</th>\n",
       "    </tr>\n",
       "  </thead>\n",
       "  <tbody>\n",
       "    <tr>\n",
       "      <th>11361</th>\n",
       "      <td>REAL, Philippines (Reuters) - The Philippines ...</td>\n",
       "      <td>1</td>\n",
       "    </tr>\n",
       "    <tr>\n",
       "      <th>13498</th>\n",
       "      <td>DEMOCRATS Making free and fair elections impos...</td>\n",
       "      <td>0</td>\n",
       "    </tr>\n",
       "    <tr>\n",
       "      <th>35488</th>\n",
       "      <td>HO CHI MINH CITY, Vietnam (Reuters) - U.S. Pre...</td>\n",
       "      <td>1</td>\n",
       "    </tr>\n",
       "    <tr>\n",
       "      <th>32091</th>\n",
       "      <td>BERLIN (Reuters) - Paul Wolfowitz, a Republica...</td>\n",
       "      <td>1</td>\n",
       "    </tr>\n",
       "    <tr>\n",
       "      <th>38573</th>\n",
       "      <td>KIEV (Reuters) - Turkey s President Tayyip Erd...</td>\n",
       "      <td>1</td>\n",
       "    </tr>\n",
       "    <tr>\n",
       "      <th>35608</th>\n",
       "      <td>WASHINGTON (Reuters) - The White House budget ...</td>\n",
       "      <td>1</td>\n",
       "    </tr>\n",
       "    <tr>\n",
       "      <th>15499</th>\n",
       "      <td>We liberals have known exactly who Donald Trum...</td>\n",
       "      <td>0</td>\n",
       "    </tr>\n",
       "    <tr>\n",
       "      <th>10977</th>\n",
       "      <td>Earlier this year, President Obama joked that ...</td>\n",
       "      <td>0</td>\n",
       "    </tr>\n",
       "    <tr>\n",
       "      <th>23574</th>\n",
       "      <td>BRUSSELS (Reuters) - Soccer leagues such as En...</td>\n",
       "      <td>1</td>\n",
       "    </tr>\n",
       "    <tr>\n",
       "      <th>9008</th>\n",
       "      <td>LONDON (Reuters) - U.S. President Donald Trump...</td>\n",
       "      <td>1</td>\n",
       "    </tr>\n",
       "  </tbody>\n",
       "</table>\n",
       "</div>"
      ],
      "text/plain": [
       "                                                    Text  Label\n",
       "11361  REAL, Philippines (Reuters) - The Philippines ...      1\n",
       "13498  DEMOCRATS Making free and fair elections impos...      0\n",
       "35488  HO CHI MINH CITY, Vietnam (Reuters) - U.S. Pre...      1\n",
       "32091  BERLIN (Reuters) - Paul Wolfowitz, a Republica...      1\n",
       "38573  KIEV (Reuters) - Turkey s President Tayyip Erd...      1\n",
       "35608  WASHINGTON (Reuters) - The White House budget ...      1\n",
       "15499  We liberals have known exactly who Donald Trum...      0\n",
       "10977  Earlier this year, President Obama joked that ...      0\n",
       "23574  BRUSSELS (Reuters) - Soccer leagues such as En...      1\n",
       "9008   LONDON (Reuters) - U.S. President Donald Trump...      1"
      ]
     },
     "execution_count": 42,
     "metadata": {},
     "output_type": "execute_result"
    }
   ],
   "source": [
    "#Make a dataframe of that and Getting ten randomly samples of that . \n",
    "finall_df = pd.DataFrame(finall,columns=['Text','Label'])\n",
    "finall_df.sample(10)"
   ]
  },
  {
   "cell_type": "code",
   "execution_count": 43,
   "id": "4f9f8bbb",
   "metadata": {},
   "outputs": [],
   "source": [
    "#Creating a function to remove stop words from each text .\n",
    "def Filter(text)->str :\n",
    "    '''function docstring'''\n",
    "    stopwords = [\"a\", \"about\", \"above\", \"after\", \"again\", \"against\", \"all\", \"am\", \"an\", \"and\", \"any\", \"are\", \"as\", \"at\", \"be\", \"because\", \"been\", \"before\", \"being\", \"below\", \"between\", \"both\", \"but\", \"by\", \"could\", \"did\", \"do\", \"does\", \"doing\", \"down\", \"during\", \"each\", \"few\", \"for\", \"from\", \"further\", \"had\", \"has\", \"have\", \"having\", \"he\", \"he'd\", \"he'll\", \"he's\", \"her\", \"here\", \"here's\", \"hers\", \"herself\", \"him\", \"himself\", \"his\", \"how\", \"how's\", \"i\", \"i'd\", \"i'll\", \"i'm\", \"i've\", \"if\", \"in\", \"into\", \"is\", \"it\", \"it's\", \"its\", \"itself\", \"let's\", \"me\", \"more\", \"most\", \"my\", \"myself\", \"nor\", \"of\", \"on\", \"once\", \"only\", \"or\", \"other\", \"ought\", \"our\", \"ours\", \"ourselves\", \"out\", \"over\", \"own\", \"same\", \"she\", \"she'd\", \"she'll\", \"she's\", \"should\", \"so\", \"some\", \"such\", \"than\", \"that\", \"that's\", \"the\", \"their\", \"theirs\", \"them\", \"themselves\", \"then\", \"there\", \"there's\", \"these\", \"they\", \"they'd\", \"they'll\", \"they're\", \"they've\", \"this\", \"those\", \"through\", \"to\", \"too\", \"under\", \"until\", \"up\", \"very\", \"was\", \"we\", \"we'd\", \"we'll\", \"we're\", \"we've\", \"were\", \"what\", \"what's\", \"when\", \"when's\", \"where\", \"where's\", \"which\", \"while\", \"who\", \"who's\", \"whom\", \"why\", \"why's\", \"with\", \"would\", \"you\", \"you'd\", \"you'll\", \"you're\", \"you've\", \"your\", \"yours\", \"yourself\", \"yourselves\" ]\n",
    "    temp = ''\n",
    "    for word in text.split() :\n",
    "        if word not in stopwords :\n",
    "            temp += word\n",
    "            temp += ' '\n",
    "    return temp[:-1]"
   ]
  },
  {
   "cell_type": "code",
   "execution_count": 44,
   "id": "ff038211",
   "metadata": {},
   "outputs": [],
   "source": [
    "#Extracting features \n",
    "feature = [Filter(text) for text in finall_df['Text']]"
   ]
  },
  {
   "cell_type": "code",
   "execution_count": 62,
   "id": "f4a2ca54",
   "metadata": {},
   "outputs": [],
   "source": [
    "#Extracting labels\n",
    "labels = finall_df['Label'].to_numpy().reshape(-1,1)"
   ]
  },
  {
   "cell_type": "code",
   "execution_count": 48,
   "id": "30b1de9a",
   "metadata": {},
   "outputs": [],
   "source": [
    "#Importing needed modules . \n",
    "from tensorflow.keras.preprocessing.text import Tokenizer\n",
    "from tensorflow.keras.preprocessing.sequence import pad_sequences\n",
    "tokenizer = Tokenizer(oov_token='<00U00>')"
   ]
  },
  {
   "cell_type": "code",
   "execution_count": 49,
   "id": "9b712c54",
   "metadata": {},
   "outputs": [],
   "source": [
    "#Tokenizing texts\n",
    "tokenizer.fit_on_texts(feature)\n",
    "#Converting them to sequneces\n",
    "sequences = tokenizer.texts_to_sequences(feature)"
   ]
  },
  {
   "cell_type": "code",
   "execution_count": 50,
   "id": "6726cd15",
   "metadata": {},
   "outputs": [],
   "source": [
    "#Making a matrix of sequences \n",
    "ready_sequences = pad_sequences(sequences,padding='post',truncating='post',maxlen=15)"
   ]
  },
  {
   "cell_type": "code",
   "execution_count": 53,
   "id": "ca592100",
   "metadata": {},
   "outputs": [
    {
     "data": {
      "text/plain": [
       "array([ 253, 2577, 2803,   24,    4,    3,  438,  711,   81,  736,  186,\n",
       "       3058,   60,  104,  445])"
      ]
     },
     "execution_count": 53,
     "metadata": {},
     "output_type": "execute_result"
    }
   ],
   "source": [
    "#How does it look like in fisrt sample ?\n",
    "ready_sequences[0]"
   ]
  },
  {
   "cell_type": "code",
   "execution_count": 63,
   "id": "68499196",
   "metadata": {},
   "outputs": [],
   "source": [
    "#Splitting train and valodation data .\n",
    "idx = (90 * len(feature)) // 100\n",
    "train = ready_sequences[:idx]\n",
    "train_label = labels[:idx]\n",
    "valid = ready_sequences[idx:]\n",
    "valid_label = labels[idx:]"
   ]
  },
  {
   "cell_type": "code",
   "execution_count": 71,
   "id": "f946b9ae",
   "metadata": {},
   "outputs": [
    {
     "name": "stdout",
     "output_type": "stream",
     "text": [
      "(38550, 15)\n",
      "(38550, 1)\n",
      "(4284, 15)\n",
      "(4284, 1)\n"
     ]
    }
   ],
   "source": [
    "print(train.shape)\n",
    "print(train_label.shape)\n",
    "print(valid.shape)\n",
    "print(valid_label.shape)"
   ]
  },
  {
   "cell_type": "code",
   "execution_count": 65,
   "id": "cd9bac7c",
   "metadata": {},
   "outputs": [],
   "source": [
    "#Building our model by a function .\n",
    "from tensorflow.keras import layers , models\n",
    "def Create_model()->None :\n",
    "    '''function docstring'''\n",
    "    model = models.Sequential([layers.Embedding(len(tokenizer.word_index),16,input_length=15)\n",
    "                              ,layers.GlobalAveragePooling1D()\n",
    "                              ,layers.Dense(6,activation='relu')\n",
    "                              ,layers.Dense(1,activation='sigmoid')])\n",
    "    model.compile(optimizer='adam',loss='binary_crossentropy',metrics=['accuracy'])\n",
    "    return model"
   ]
  },
  {
   "cell_type": "code",
   "execution_count": 67,
   "id": "cc6c022a",
   "metadata": {},
   "outputs": [
    {
     "name": "stdout",
     "output_type": "stream",
     "text": [
      "Epoch 1/5\n",
      "1205/1205 [==============================] - 41s 32ms/step - loss: 0.1629 - accuracy: 0.9716 - val_loss: 0.0195 - val_accuracy: 0.9958\n",
      "Epoch 2/5\n",
      "1205/1205 [==============================] - 38s 31ms/step - loss: 0.0067 - accuracy: 0.9992 - val_loss: 0.0109 - val_accuracy: 0.9979\n",
      "Epoch 3/5\n",
      "1205/1205 [==============================] - 37s 30ms/step - loss: 0.0022 - accuracy: 0.9997 - val_loss: 0.0092 - val_accuracy: 0.9981\n",
      "Epoch 4/5\n",
      "1205/1205 [==============================] - 38s 31ms/step - loss: 0.0010 - accuracy: 0.9999 - val_loss: 0.0091 - val_accuracy: 0.9981\n",
      "Epoch 5/5\n",
      "1205/1205 [==============================] - 34s 28ms/step - loss: 5.5145e-04 - accuracy: 0.9999 - val_loss: 0.0098 - val_accuracy: 0.9981\n"
     ]
    }
   ],
   "source": [
    "#Training datas with 5 epoch .\n",
    "history = Create_model().fit(train,train_label,epochs=5,validation_data=(valid,valid_label))"
   ]
  },
  {
   "cell_type": "code",
   "execution_count": 69,
   "id": "c8a36aa9",
   "metadata": {},
   "outputs": [
    {
     "data": {
      "image/png": "[encoded data removed]",
      "text/plain": [
       "<Figure size 640x480 with 1 Axes>"
      ]
     },
     "metadata": {},
     "output_type": "display_data"
    },
    {
     "data": {
      "image/png": "[encoded data removed]",
      "text/plain": [
       "<Figure size 640x480 with 1 Axes>"
      ]
     },
     "metadata": {},
     "output_type": "display_data"
    }
   ],
   "source": [
    "#Visualize models performance\n",
    "import matplotlib.pyplot as plt\n",
    "epoch = range(1,6)\n",
    "results = history.history\n",
    "plt.plot(epoch,results['accuracy'],'blue')\n",
    "plt.plot(epoch,results['val_accuracy'],'red')\n",
    "plt.xlabel('Epochs')\n",
    "plt.ylabel('Accuracy')\n",
    "plt.title('Human_faces')\n",
    "plt.show()\n",
    "plt.plot(epoch,results['loss'],'blue')\n",
    "plt.plot(epoch,results['val_loss'],'red')\n",
    "plt.xlabel('Epochs')\n",
    "plt.ylabel('Loss')\n",
    "plt.title('Human_faces')\n",
    "plt.show()"
   ]
  },
  {
   "cell_type": "code",
   "execution_count": null,
   "id": "bf8210dd",
   "metadata": {},
   "outputs": [],
   "source": []
  }
 ],
 "metadata": {
  "kernelspec": {
   "display_name": "Python 3 (ipykernel)",
   "language": "python",
   "name": "python3"
  },
  "language_info": {
   "codemirror_mode": {
    "name": "ipython",
    "version": 3
   },
   "file_extension": ".py",
   "mimetype": "text/x-python",
   "name": "python",
   "nbconvert_exporter": "python",
   "pygments_lexer": "ipython3",
   "version": "3.9.13"
  }
 },
 "nbformat": 4,
 "nbformat_minor": 5
}
